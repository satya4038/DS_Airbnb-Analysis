{
 "cells": [
  {
   "cell_type": "markdown",
   "metadata": {
    "colab_type": "text",
    "id": "view-in-github"
   },
   "source": [
    "<a href=\"https://colab.research.google.com/github/PRITHIYUMAN/Airbnb/blob/main/Airbnb_project.ipynb\" target=\"_parent\"><img src=\"https://colab.research.google.com/assets/colab-badge.svg\" alt=\"Open In Colab\"/></a>"
   ]
  },
  {
   "cell_type": "code",
   "execution_count": null,
   "metadata": {
    "id": "zrLCXO8oJPRn"
   },
   "outputs": [],
   "source": [
    "!pip install -q streamlit"
   ]
  },
  {
   "cell_type": "code",
   "execution_count": null,
   "metadata": {
    "id": "zfnjEln0Jsbw"
   },
   "outputs": [],
   "source": [
    "!npm install localtunnel"
   ]
  },
  {
   "cell_type": "code",
   "execution_count": null,
   "metadata": {
    "id": "N2hHLgnqKDSz"
   },
   "outputs": [],
   "source": [
    "! pip install streamlit_option_menu"
   ]
  },
  {
   "cell_type": "code",
   "execution_count": 14,
   "metadata": {
    "id": "Fb87ZeF9IzTI"
   },
   "outputs": [],
   "source": [
    "import streamlit as st\n",
    "from streamlit_option_menu import option_menu\n",
    "import plotly.express as px\n",
    "import pandas as pd\n",
    "import os\n",
    "from PIL import Image\n",
    "import warnings\n",
    "\n",
    "warnings.filterwarnings('ignore')\n",
    "\n",
    "st.set_page_config(page_title=\"AirBnb-Analysis by PRITHIYUMAN A!!!\", page_icon=\":bar_chart:\", layout=\"wide\")\n",
    "\n",
    "st.title(\":bar_chart:   AirBnb-Analysis\")\n",
    "st.markdown('<style>div.block-container{padding-top:1rem;}</style>', unsafe_allow_html=True)\n",
    "\n",
    "# with st.headbar:\n",
    "SELECT = option_menu(\n",
    "    menu_title=None,\n",
    "    options=[\"Home\", \"Explore Data\", \"Contact\"],\n",
    "    icons=[\"house\", \"bar-chart\", \"at\"],\n",
    "    default_index=2,\n",
    "    orientation=\"horizontal\",\n",
    "    styles={\"container\": {\"padding\": \"0!important\", \"background-color\": \"white\", \"size\": \"cover\", \"width\": \"100\"},\n",
    "            \"icon\": {\"color\": \"black\", \"font-size\": \"20px\"},\n",
    "\n",
    "            \"nav-link\": {\"font-size\": \"20px\", \"text-align\": \"center\", \"margin\": \"-2px\", \"--hover-color\": \"#6F36AD\"},\n",
    "            \"nav-link-selected\": {\"background-color\": \"#6F36AD\"}})\n",
    "\n",
    "#----------------Home----------------------#\n",
    "\n",
    "if SELECT == \"Home\":\n",
    "\n",
    " st.header('Airbnb Analysis')\n",
    " st.subheader(\"Airbnb is an American San Francisco-based company operating an online marketplace for short- and long-term homestays and experiences. The company acts as a broker and charges a commission from each booking. The company was founded in 2008 by Brian Chesky, Nathan Blecharczyk, and Joe Gebbia. Airbnb is a shortened version of its original name, AirBedandBreakfast.com. The company is credited with revolutionizing the tourism industry, while also having been the subject of intense criticism by residents of tourism hotspot cities like Barcelona and Venice for enabling an unaffordable increase in home rents, and for a lack of regulation.\")\n",
    " st.subheader('Skills take away From This Project:')\n",
    " st.subheader('Python Scripting, Data Preprocessing, Visualization, EDA, Streamlit, MongoDb, PowerBI or Tableau')\n",
    " st.subheader('Domain:')\n",
    " st.subheader('Travel Industry, Property management and Tourism')\n",
    "\n",
    "if SELECT == \"Explore Data\":\n",
    " fl = st.file_uploader(\":file_folder: Upload a file\", type=([\"csv\", \"txt\", \"xlsx\", \"xls\"]))\n",
    " if fl is not None:\n",
    "    filename = fl.name\n",
    "    st.write(filename)\n",
    "    df = pd.read_csv(filename, encoding=\"ISO-8859-1\")\n",
    " else:\n",
    "    os.chdir(r\"E:\\\\personal\\\\guvi\\\\project\\\\Airbnb\")\n",
    "    df = pd.read_csv(\"Airbnb NYC 2019.csv\", encoding=\"ISO-8859-1\")\n",
    "\n",
    " st.sidebar.header(\"Choose your filter: \")\n",
    "\n",
    " # Create for neighbourhood_group\n",
    " neighbourhood_group = st.sidebar.multiselect(\"Pick your neighbourhood_group\", df[\"neighbourhood_group\"].unique())\n",
    " if not neighbourhood_group:\n",
    "     df2 = df.copy()\n",
    " else:\n",
    "     df2 = df[df[\"neighbourhood_group\"].isin(neighbourhood_group)]\n",
    "\n",
    " # Create for neighbourhood\n",
    " neighbourhood = st.sidebar.multiselect(\"Pick the neighbourhood\", df2[\"neighbourhood\"].unique())\n",
    " if not neighbourhood:\n",
    "     df3 = df2.copy()\n",
    " else:\n",
    "     df3 = df2[df2[\"neighbourhood\"].isin(neighbourhood)]\n",
    "\n",
    " # Filter the data based on neighbourhood_group, neighbourhood\n",
    "\n",
    " if not neighbourhood_group and not neighbourhood:\n",
    "     filtered_df = df\n",
    " elif not neighbourhood:\n",
    "     filtered_df = df[df[\"neighbourhood_group\"].isin(neighbourhood_group)]\n",
    " elif not neighbourhood_group:\n",
    "     filtered_df = df[df[\"neighbourhood\"].isin(neighbourhood)]\n",
    " elif neighbourhood:\n",
    "     filtered_df = df3[df[\"neighbourhood\"].isin(neighbourhood)]\n",
    " elif neighbourhood_group:\n",
    "     filtered_df = df3[df[\"neighbourhood_group\"].isin(neighbourhood_group)]\n",
    " elif neighbourhood_group and neighbourhood:\n",
    "     filtered_df = df3[df[\"neighbourhood_group\"].isin(neighbourhood_group) & df3[\"neighbourhood\"].isin(neighbourhood)]\n",
    " else:\n",
    "     filtered_df = df3[df3[\"neighbourhood_group\"].isin(neighbourhood_group) & df3[\"neighbourhood\"].isin(neighbourhood)]\n",
    "\n",
    " room_type_df = filtered_df.groupby(by=[\"room_type\"], as_index=False)[\"price\"].sum()\n",
    "\n",
    " col1, col2 = st.columns(2)\n",
    " with col1:\n",
    "    st.subheader(\"room_type_ViewData\")\n",
    "    fig = px.bar(room_type_df, x=\"room_type\", y=\"price\", text=['${:,.2f}'.format(x) for x in room_type_df[\"price\"]],\n",
    "                 template=\"seaborn\")\n",
    "    st.plotly_chart(fig, use_container_width=True, height=200)\n",
    "\n",
    " with col2:\n",
    "    st.subheader(\"neighbourhood_group_ViewData\")\n",
    "    fig = px.pie(filtered_df, values=\"price\", names=\"neighbourhood_group\", hole=0.5)\n",
    "    fig.update_traces(text=filtered_df[\"neighbourhood_group\"], textposition=\"outside\")\n",
    "    st.plotly_chart(fig, use_container_width=True)\n",
    "\n",
    " cl1, cl2 = st.columns((2))\n",
    " with cl1:\n",
    "    with st.expander(\"room_type wise price\"):\n",
    "        st.write(room_type_df.style.background_gradient(cmap=\"Blues\"))\n",
    "        csv = room_type_df.to_csv(index=False).encode('utf-8')\n",
    "        st.download_button(\"Download Data\", data=csv, file_name=\"room_type.csv\", mime=\"text/csv\",\n",
    "                           help='Click here to download the data as a CSV file')\n",
    "\n",
    " with cl2:\n",
    "    with st.expander(\"neighbourhood_group wise price\"):\n",
    "        neighbourhood_group = filtered_df.groupby(by=\"neighbourhood_group\", as_index=False)[\"price\"].sum()\n",
    "        st.write(neighbourhood_group.style.background_gradient(cmap=\"Oranges\"))\n",
    "        csv = neighbourhood_group.to_csv(index=False).encode('utf-8')\n",
    "        st.download_button(\"Download Data\", data=csv, file_name=\"neighbourhood_group.csv\", mime=\"text/csv\",\n",
    "                           help='Click here to download the data as a CSV file')\n",
    "\n",
    " # Create a scatter plot\n",
    " data1 = px.scatter(filtered_df, x=\"neighbourhood_group\", y=\"neighbourhood\", color=\"room_type\")\n",
    " data1['layout'].update(title=\"Room_type in the Neighbourhood and Neighbourhood_Group wise data using Scatter Plot.\",\n",
    "                        titlefont=dict(size=20), xaxis=dict(title=\"Neighbourhood_Group\", titlefont=dict(size=20)),\n",
    "                        yaxis=dict(title=\"Neighbourhood\", titlefont=dict(size=20)))\n",
    " st.plotly_chart(data1, use_container_width=True)\n",
    "\n",
    " with st.expander(\"Detailed Room Availability and Price View Data in the Neighbourhood\"):\n",
    "     st.write(filtered_df.iloc[:500, 1:20:2].style.background_gradient(cmap=\"Oranges\"))\n",
    "\n",
    " # Download orginal DataSet\n",
    " csv = df.to_csv(index=False).encode('utf-8')\n",
    " st.download_button('Download Data', data=csv, file_name=\"Data.csv\", mime=\"text/csv\")\n",
    "\n",
    " import plotly.figure_factory as ff\n",
    "\n",
    " st.subheader(\":point_right: Neighbourhood_group wise Room_type and Minimum stay nights\")\n",
    " with st.expander(\"Summary_Table\"):\n",
    "    df_sample = df[0:5][[\"neighbourhood_group\", \"neighbourhood\", \"reviews_per_month\", \"room_type\", \"price\", \"minimum_nights\", \"host_name\"]]\n",
    "    fig = ff.create_table(df_sample, colorscale=\"Cividis\")\n",
    "    st.plotly_chart(fig, use_container_width=True)\n",
    "\n",
    " # map function for room_type\n",
    "\n",
    "# If your DataFrame has columns 'Latitude' and 'Longitude':\n",
    " st.subheader(\"Airbnb Analysis in Map view\")\n",
    " df = df.rename(columns={\"Latitude\": \"lat\", \"Longitude\": \"lon\"})\n",
    "\n",
    " st.map(df)\n",
    "\n",
    "# ----------------------Contact---------------#\n",
    "\n",
    "if SELECT == \"Contact\":\n",
    "    Name = (f'{\"Name :\"}  {\"Satyanarayana J\"}')\n",
    "    mail = (f'{\"Mail :\"}  {\"satyanarayanajammu3@gmailcom\"}')\n",
    "    description = \"An Aspiring DATA-SCIENTIST..!\"\n",
    "    social_media = {\n",
    "\n",
    "        \"GITHUB\": \"https://github.com/satya4038\",\n",
    "        \"LINKEDIN\": \"https://www.linkedin.com/in/satyanarayana-jammu-412173132/\"}\n",
    "\n",
    "    col1, col2 = st.columns(2)\n",
    "    col1.image(Image.open(\"/content/IMG_20220926_191647.jpg\"), width=300)\n",
    "\n",
    "    with col2:\n",
    "        st.header('Airbnb Analysis')\n",
    "        st.subheader(\n",
    "            \"This project aims to analyze Airbnb data using MongoDB Atlas, perform data cleaning and preparation, develop interactive geospatial visualizations, and create dynamic plots to gain insights into pricing variations, availability patterns, and location-based trends.\")\n",
    "        st.write(\"---\")\n",
    "        st.subheader(Name)\n",
    "        st.subheader(mail)\n",
    "\n",
    "    st.write(\"#\")\n",
    "    cols = st.columns(len(social_media))\n",
    "    for index, (platform, link) in enumerate(social_media.items()):\n",
    "        cols[index].write(f\"[{platform}]({link})\")\n"
   ]
  },
  {
   "cell_type": "code",
   "execution_count": null,
   "metadata": {
    "id": "-D97sjPtLA07"
   },
   "outputs": [],
   "source": [
    "!streamlit run airbnb.py &>/content/logs.txt & npx localtunnel --port 8501 & curl ipv4.icanhazip.com"
   ]
  },
  {
   "cell_type": "code",
   "execution_count": null,
   "metadata": {
    "id": "fbl_g-TuMAEW"
   },
   "outputs": [],
   "source": []
  },
  {
   "cell_type": "code",
   "execution_count": null,
   "metadata": {
    "id": "EQgeGLReLJur"
   },
   "outputs": [],
   "source": [
    "!npx localtunnel --port 8501 & curl ipv4.icanhazip.com"
   ]
  }
 ],
 "metadata": {
  "colab": {
   "authorship_tag": "ABX9TyNfH57f9yvT6ECbAPv5cwwG",
   "include_colab_link": true,
   "provenance": []
  },
  "kernelspec": {
   "display_name": "Python 3 (ipykernel)",
   "language": "python",
   "name": "python3"
  },
  "language_info": {
   "codemirror_mode": {
    "name": "ipython",
    "version": 3
   },
   "file_extension": ".py",
   "mimetype": "text/x-python",
   "name": "python",
   "nbconvert_exporter": "python",
   "pygments_lexer": "ipython3",
   "version": "3.11.4"
  }
 },
 "nbformat": 4,
 "nbformat_minor": 1
}
